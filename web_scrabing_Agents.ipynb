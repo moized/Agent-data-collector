{
 "cells": [
  {
   "cell_type": "code",
   "execution_count": 10,
   "metadata": {},
   "outputs": [],
   "source": [
    "# Importing required libraries\n",
    "import pandas as pd\n",
    "import requests"
   ]
  },
  {
   "cell_type": "code",
   "execution_count": null,
   "metadata": {},
   "outputs": [],
   "source": [
    "#Query to get all agents from the API\n",
    "all_agents = []\n",
    "for i in range(0, 18):\n",
    "        json_data = {\n",
    "        'query': '\\n  query Agents (\\n    $agentId: ID\\n    $agentIds: [ID!]\\n    $companyId: String\\n    $network: Boolean\\n    $networkId: String\\n    $officeId: [ID!]\\n    $offset: Int\\n    $limit: Int\\n    $sort: String\\n    $sortDir: SortDirectionEnum\\n    $search: String\\n    $tags: [String]\\n    $tagsMode: TagsModeEnum\\n    $teamId: [ID!]\\n    $developmentId: [ID!]\\n    $prioritizeIds: Boolean\\n  ) {\\n    agents (\\n      agentId: $agentId\\n      agentIds: $agentIds\\n      companyId: $companyId\\n      network: $network\\n      networkId: $networkId\\n      officeId: $officeId\\n      offset: $offset\\n      limit: $limit\\n      sort: $sort\\n      sortDir: $sortDir\\n      search: $search\\n      tags: $tags\\n      tagsMode: $tagsMode\\n      teamId: $teamId\\n      developmentId: $developmentId\\n      prioritizeIds: $prioritizeIds\\n    ) {\\n      id\\n      firstName\\n      lastName\\n      avatar {\\n        smallUrl\\n        mediumUrl\\n        largeUrl\\n        height\\n        width\\n      }\\n      position\\n      bioLong\\n      bioShort\\n      seoTitle\\n      seoDescription\\n      slug\\n      phoneNumber\\n      phoneNumber2\\n      license\\n      email\\n      leadAgent\\n      greaterArea\\n      tags\\n    }\\n    agentsCount(\\n      agentIds: $agentIds\\n      companyId: $companyId\\n      network: $network\\n      networkId: $networkId\\n      officeId: $officeId\\n      search: $search\\n      tags: $tags\\n      tagsMode: $tagsMode\\n      teamId: $teamId\\n      developmentId: $developmentId\\n      prioritizeIds: $prioritizeIds\\n    ) {\\n      count\\n    }\\n  }\\n',\n",
    "        'variables': {\n",
    "                'limit': 40,\n",
    "                'offset': i*40,\n",
    "                'companyId': 'ed4facfd-9d17-44cc-a176-21204234a267',\n",
    "                'sort': 'firstName',\n",
    "                'tags': [\n",
    "                'English',\n",
    "                ],\n",
    "                'sortDir': 'ASC',\n",
    "        },\n",
    "        }\n",
    "        #Make the API Request\n",
    "        response = requests.post('https://gw.luxurypresence.com/graphql', json=json_data)\n",
    "        if response.status_code != 200:\n",
    "                print('Failed to get data:', response.status)\n",
    "\n",
    "        for agent in response.json()['data']['agents']:\n",
    "                data={'firstName': agent['firstName'],\n",
    "                        'lastName': agent['lastName'],\n",
    "                        'position': 'Realtor Associate',\n",
    "                        'seoTitle': agent['seoTitle'],\n",
    "                        'seoDescription': agent['seoDescription'],\n",
    "                        'phoneNumber': agent['phoneNumber'],\n",
    "                        'phoneNumber2': agent['phoneNumber2'],\n",
    "                        'license': agent['license'],\n",
    "                        'email': agent['email']}\n",
    "                all_agents.append(data)\n",
    "    "
   ]
  },
  {
   "cell_type": "code",
   "execution_count": null,
   "metadata": {},
   "outputs": [],
   "source": [
    "#Create a DataFrame with the data\n",
    "df=pd.DataFrame(all_agents)"
   ]
  },
  {
   "cell_type": "code",
   "execution_count": 8,
   "metadata": {},
   "outputs": [
    {
     "data": {
      "text/plain": [
       "708"
      ]
     },
     "execution_count": 8,
     "metadata": {},
     "output_type": "execute_result"
    }
   ],
   "source": [
    "len(df)"
   ]
  },
  {
   "cell_type": "code",
   "execution_count": 9,
   "metadata": {},
   "outputs": [
    {
     "data": {
      "text/html": [
       "<div>\n",
       "<style scoped>\n",
       "    .dataframe tbody tr th:only-of-type {\n",
       "        vertical-align: middle;\n",
       "    }\n",
       "\n",
       "    .dataframe tbody tr th {\n",
       "        vertical-align: top;\n",
       "    }\n",
       "\n",
       "    .dataframe thead th {\n",
       "        text-align: right;\n",
       "    }\n",
       "</style>\n",
       "<table border=\"1\" class=\"dataframe\">\n",
       "  <thead>\n",
       "    <tr style=\"text-align: right;\">\n",
       "      <th></th>\n",
       "      <th>firstName</th>\n",
       "      <th>lastName</th>\n",
       "      <th>position</th>\n",
       "      <th>seoTitle</th>\n",
       "      <th>seoDescription</th>\n",
       "      <th>phoneNumber</th>\n",
       "      <th>phoneNumber2</th>\n",
       "      <th>license</th>\n",
       "      <th>email</th>\n",
       "    </tr>\n",
       "  </thead>\n",
       "  <tbody>\n",
       "    <tr>\n",
       "      <th>0</th>\n",
       "      <td>Achraf</td>\n",
       "      <td>Bousmah</td>\n",
       "      <td>Realtor Associate</td>\n",
       "      <td>Achraf Bousmah - Your Local Realtor Associate</td>\n",
       "      <td>Achraf offers unparalleled expertise and local...</td>\n",
       "      <td>(305) 310-5340</td>\n",
       "      <td>None</td>\n",
       "      <td></td>\n",
       "      <td>ach@fir.com</td>\n",
       "    </tr>\n",
       "    <tr>\n",
       "      <th>1</th>\n",
       "      <td>Adam</td>\n",
       "      <td>Bishop</td>\n",
       "      <td>Realtor Associate</td>\n",
       "      <td>Adam Bishop - Your Local Realtor Associate</td>\n",
       "      <td>Adam Bishop offers unparalleled expertise and ...</td>\n",
       "      <td>(248) 240-9557</td>\n",
       "      <td>(305) 400-6393</td>\n",
       "      <td></td>\n",
       "      <td>abishop@fir.com</td>\n",
       "    </tr>\n",
       "    <tr>\n",
       "      <th>2</th>\n",
       "      <td>Adam</td>\n",
       "      <td>Elmer</td>\n",
       "      <td>Realtor Associate</td>\n",
       "      <td>Adam Elmer - Your Local Realtor Associate</td>\n",
       "      <td>Their unwavering dedication, profound expertis...</td>\n",
       "      <td>(215) 584-1287</td>\n",
       "      <td>(561) 464-4344</td>\n",
       "      <td></td>\n",
       "      <td>aelmer@fir.com</td>\n",
       "    </tr>\n",
       "    <tr>\n",
       "      <th>3</th>\n",
       "      <td>Adam</td>\n",
       "      <td>Elmer SR</td>\n",
       "      <td>Realtor Associate</td>\n",
       "      <td>Adam Elmer SR - Your Local Realtor Associate</td>\n",
       "      <td>With an unwavering dedication to his clients'...</td>\n",
       "      <td>(215) 669-4658</td>\n",
       "      <td>(561) 464-4344</td>\n",
       "      <td></td>\n",
       "      <td>adamelmersr@fir.com</td>\n",
       "    </tr>\n",
       "    <tr>\n",
       "      <th>4</th>\n",
       "      <td>Adelayda</td>\n",
       "      <td>Pena</td>\n",
       "      <td>Realtor Associate</td>\n",
       "      <td>Adelayda Pena - Your Local Realtor Associate</td>\n",
       "      <td>Adelayda Pena offers unparalleled expertise an...</td>\n",
       "      <td>(786) 346-7372</td>\n",
       "      <td>(305) 720-2314</td>\n",
       "      <td></td>\n",
       "      <td>adelayda@fir.com</td>\n",
       "    </tr>\n",
       "  </tbody>\n",
       "</table>\n",
       "</div>"
      ],
      "text/plain": [
       "  firstName  lastName           position  \\\n",
       "0    Achraf   Bousmah  Realtor Associate   \n",
       "1      Adam    Bishop  Realtor Associate   \n",
       "2      Adam     Elmer  Realtor Associate   \n",
       "3      Adam  Elmer SR  Realtor Associate   \n",
       "4  Adelayda      Pena  Realtor Associate   \n",
       "\n",
       "                                        seoTitle  \\\n",
       "0  Achraf Bousmah - Your Local Realtor Associate   \n",
       "1     Adam Bishop - Your Local Realtor Associate   \n",
       "2      Adam Elmer - Your Local Realtor Associate   \n",
       "3   Adam Elmer SR - Your Local Realtor Associate   \n",
       "4   Adelayda Pena - Your Local Realtor Associate   \n",
       "\n",
       "                                      seoDescription     phoneNumber  \\\n",
       "0  Achraf offers unparalleled expertise and local...  (305) 310-5340   \n",
       "1  Adam Bishop offers unparalleled expertise and ...  (248) 240-9557   \n",
       "2  Their unwavering dedication, profound expertis...  (215) 584-1287   \n",
       "3   With an unwavering dedication to his clients'...  (215) 669-4658   \n",
       "4  Adelayda Pena offers unparalleled expertise an...  (786) 346-7372   \n",
       "\n",
       "     phoneNumber2 license                email  \n",
       "0            None                  ach@fir.com  \n",
       "1  (305) 400-6393              abishop@fir.com  \n",
       "2  (561) 464-4344               aelmer@fir.com  \n",
       "3  (561) 464-4344          adamelmersr@fir.com  \n",
       "4  (305) 720-2314             adelayda@fir.com  "
      ]
     },
     "execution_count": 9,
     "metadata": {},
     "output_type": "execute_result"
    }
   ],
   "source": [
    "df.head()"
   ]
  },
  {
   "cell_type": "code",
   "execution_count": null,
   "metadata": {},
   "outputs": [],
   "source": []
  }
 ],
 "metadata": {
  "kernelspec": {
   "display_name": "Python (dataAnalysis_env)",
   "language": "python",
   "name": "dataanalysis_env"
  },
  "language_info": {
   "codemirror_mode": {
    "name": "ipython",
    "version": 3
   },
   "file_extension": ".py",
   "mimetype": "text/x-python",
   "name": "python",
   "nbconvert_exporter": "python",
   "pygments_lexer": "ipython3",
   "version": "3.13.0"
  }
 },
 "nbformat": 4,
 "nbformat_minor": 2
}
